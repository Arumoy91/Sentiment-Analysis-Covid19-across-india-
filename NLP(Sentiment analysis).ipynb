{
 "cells": [
  {
   "cell_type": "code",
   "execution_count": 1,
   "id": "bfefc795",
   "metadata": {},
   "outputs": [],
   "source": [
    "import string\n",
    "\n",
    "import nltk\n",
    "\n",
    "from collections import Counter\n",
    "\n",
    "import matplotlib.pyplot as plt\n",
    "\n",
    "from nltk.corpus import stopwords\n",
    "\n",
    "from nltk.sentiment.vader import SentimentIntensityAnalyzer\n",
    "\n",
    "from nltk.stem import WordNetLemmatizer\n",
    "\n",
    "from nltk.tokenize import word_tokenize\n"
   ]
  },
  {
   "cell_type": "code",
   "execution_count": 2,
   "id": "a6c0c263",
   "metadata": {},
   "outputs": [],
   "source": [
    "import warnings\n",
    "warnings.filterwarnings('ignore')"
   ]
  },
  {
   "cell_type": "code",
   "execution_count": 3,
   "id": "c77c63d3",
   "metadata": {},
   "outputs": [
    {
     "data": {
      "text/plain": [
       "'india is in the throes of one of its darkest moments since independence as a catastrophic second covid-19 wave tears through it with dizzying speed.\\n\\nthe country recorded an all-time high of more than 386,000 new infections on thursday, along with more than 3,500 deaths. most experts say the actual number of fatalities is far higher.\\n\\nprime minister narendra modi and his government have been accused of exacerbating the crisis by failing to prepare after a sharp drop in cases led to claims the country was in the “endgame” of the pandemic.\\n\\nthe latest surge has surpassed anything endured since covid-19 first struck. it has cut across the country’s many social, economic and geographic divides, affecting both rich and poor in rural and urban areas.\\n\\nthe turmoil has been intensified by a crippling shortage of life-saving supplies such as oxygen as well as new covid-19 variants. new lockdowns are also threatening to derail the recovery of what had been the world’s fastest-growing large economy.\\n'"
      ]
     },
     "execution_count": 3,
     "metadata": {},
     "output_type": "execute_result"
    }
   ],
   "source": [
    "text = open('story.csv',encoding=\"utf-8\").read()\n",
    "lower_case = text.lower()\n",
    "lower_case"
   ]
  },
  {
   "cell_type": "code",
   "execution_count": 4,
   "id": "471aaab2",
   "metadata": {},
   "outputs": [
    {
     "data": {
      "text/plain": [
       "'!\"#$%&\\'()*+,-./:;<=>?@[\\\\]^_`{|}~'"
      ]
     },
     "execution_count": 4,
     "metadata": {},
     "output_type": "execute_result"
    }
   ],
   "source": [
    "string.punctuation"
   ]
  },
  {
   "cell_type": "code",
   "execution_count": 5,
   "id": "d7210911",
   "metadata": {},
   "outputs": [
    {
     "data": {
      "text/plain": [
       "'india is in the throes of one of its darkest moments since independence as a catastrophic second covid19 wave tears through it with dizzying speed\\n\\nthe country recorded an alltime high of more than 386000 new infections on thursday along with more than 3500 deaths most experts say the actual number of fatalities is far higher\\n\\nprime minister narendra modi and his government have been accused of exacerbating the crisis by failing to prepare after a sharp drop in cases led to claims the country was in the “endgame” of the pandemic\\n\\nthe latest surge has surpassed anything endured since covid19 first struck it has cut across the country’s many social economic and geographic divides affecting both rich and poor in rural and urban areas\\n\\nthe turmoil has been intensified by a crippling shortage of lifesaving supplies such as oxygen as well as new covid19 variants new lockdowns are also threatening to derail the recovery of what had been the world’s fastestgrowing large economy\\n'"
      ]
     },
     "execution_count": 5,
     "metadata": {},
     "output_type": "execute_result"
    }
   ],
   "source": [
    "cleaned_text = lower_case.translate(str.maketrans('', '', string.punctuation))\n",
    "\n",
    "\n",
    "cleaned_text"
   ]
  },
  {
   "cell_type": "code",
   "execution_count": 6,
   "id": "03ac1698",
   "metadata": {},
   "outputs": [],
   "source": [
    "tokenized_words = word_tokenize(cleaned_text,\"english\")"
   ]
  },
  {
   "cell_type": "code",
   "execution_count": 7,
   "id": "28009c3d",
   "metadata": {},
   "outputs": [
    {
     "data": {
      "text/plain": [
       "['india',\n",
       " 'is',\n",
       " 'in',\n",
       " 'the',\n",
       " 'throes',\n",
       " 'of',\n",
       " 'one',\n",
       " 'of',\n",
       " 'its',\n",
       " 'darkest',\n",
       " 'moments',\n",
       " 'since',\n",
       " 'independence',\n",
       " 'as',\n",
       " 'a',\n",
       " 'catastrophic',\n",
       " 'second',\n",
       " 'covid19',\n",
       " 'wave',\n",
       " 'tears',\n",
       " 'through',\n",
       " 'it',\n",
       " 'with',\n",
       " 'dizzying',\n",
       " 'speed',\n",
       " 'the',\n",
       " 'country',\n",
       " 'recorded',\n",
       " 'an',\n",
       " 'alltime',\n",
       " 'high',\n",
       " 'of',\n",
       " 'more',\n",
       " 'than',\n",
       " '386000',\n",
       " 'new',\n",
       " 'infections',\n",
       " 'on',\n",
       " 'thursday',\n",
       " 'along',\n",
       " 'with',\n",
       " 'more',\n",
       " 'than',\n",
       " '3500',\n",
       " 'deaths',\n",
       " 'most',\n",
       " 'experts',\n",
       " 'say',\n",
       " 'the',\n",
       " 'actual',\n",
       " 'number',\n",
       " 'of',\n",
       " 'fatalities',\n",
       " 'is',\n",
       " 'far',\n",
       " 'higher',\n",
       " 'prime',\n",
       " 'minister',\n",
       " 'narendra',\n",
       " 'modi',\n",
       " 'and',\n",
       " 'his',\n",
       " 'government',\n",
       " 'have',\n",
       " 'been',\n",
       " 'accused',\n",
       " 'of',\n",
       " 'exacerbating',\n",
       " 'the',\n",
       " 'crisis',\n",
       " 'by',\n",
       " 'failing',\n",
       " 'to',\n",
       " 'prepare',\n",
       " 'after',\n",
       " 'a',\n",
       " 'sharp',\n",
       " 'drop',\n",
       " 'in',\n",
       " 'cases',\n",
       " 'led',\n",
       " 'to',\n",
       " 'claims',\n",
       " 'the',\n",
       " 'country',\n",
       " 'was',\n",
       " 'in',\n",
       " 'the',\n",
       " '“',\n",
       " 'endgame',\n",
       " '”',\n",
       " 'of',\n",
       " 'the',\n",
       " 'pandemic',\n",
       " 'the',\n",
       " 'latest',\n",
       " 'surge',\n",
       " 'has',\n",
       " 'surpassed',\n",
       " 'anything',\n",
       " 'endured',\n",
       " 'since',\n",
       " 'covid19',\n",
       " 'first',\n",
       " 'struck',\n",
       " 'it',\n",
       " 'has',\n",
       " 'cut',\n",
       " 'across',\n",
       " 'the',\n",
       " 'country',\n",
       " '’',\n",
       " 's',\n",
       " 'many',\n",
       " 'social',\n",
       " 'economic',\n",
       " 'and',\n",
       " 'geographic',\n",
       " 'divides',\n",
       " 'affecting',\n",
       " 'both',\n",
       " 'rich',\n",
       " 'and',\n",
       " 'poor',\n",
       " 'in',\n",
       " 'rural',\n",
       " 'and',\n",
       " 'urban',\n",
       " 'areas',\n",
       " 'the',\n",
       " 'turmoil',\n",
       " 'has',\n",
       " 'been',\n",
       " 'intensified',\n",
       " 'by',\n",
       " 'a',\n",
       " 'crippling',\n",
       " 'shortage',\n",
       " 'of',\n",
       " 'lifesaving',\n",
       " 'supplies',\n",
       " 'such',\n",
       " 'as',\n",
       " 'oxygen',\n",
       " 'as',\n",
       " 'well',\n",
       " 'as',\n",
       " 'new',\n",
       " 'covid19',\n",
       " 'variants',\n",
       " 'new',\n",
       " 'lockdowns',\n",
       " 'are',\n",
       " 'also',\n",
       " 'threatening',\n",
       " 'to',\n",
       " 'derail',\n",
       " 'the',\n",
       " 'recovery',\n",
       " 'of',\n",
       " 'what',\n",
       " 'had',\n",
       " 'been',\n",
       " 'the',\n",
       " 'world',\n",
       " '’',\n",
       " 's',\n",
       " 'fastestgrowing',\n",
       " 'large',\n",
       " 'economy']"
      ]
     },
     "execution_count": 7,
     "metadata": {},
     "output_type": "execute_result"
    }
   ],
   "source": [
    "tokenized_words"
   ]
  },
  {
   "cell_type": "code",
   "execution_count": 8,
   "id": "de9248e6",
   "metadata": {},
   "outputs": [
    {
     "data": {
      "text/plain": [
       "170"
      ]
     },
     "execution_count": 8,
     "metadata": {},
     "output_type": "execute_result"
    }
   ],
   "source": [
    "len(tokenized_words)"
   ]
  },
  {
   "cell_type": "code",
   "execution_count": 9,
   "id": "fdc59565",
   "metadata": {},
   "outputs": [],
   "source": [
    "final_words = []\n",
    "\n",
    "for word in tokenized_words:\n",
    "    if word not in stopwords.words('english'):\n",
    "        final_words.append(word)"
   ]
  },
  {
   "cell_type": "code",
   "execution_count": 10,
   "id": "beae453b",
   "metadata": {},
   "outputs": [
    {
     "data": {
      "text/plain": [
       "98"
      ]
     },
     "execution_count": 10,
     "metadata": {},
     "output_type": "execute_result"
    }
   ],
   "source": [
    "len(final_words)"
   ]
  },
  {
   "cell_type": "code",
   "execution_count": 11,
   "id": "a4b9d0c0",
   "metadata": {},
   "outputs": [],
   "source": [
    "lemma_words = []\n",
    "\n",
    "for word in final_words:\n",
    "    word = WordNetLemmatizer().lemmatize(word)\n",
    "    lemma_words.append(word)"
   ]
  },
  {
   "cell_type": "code",
   "execution_count": 12,
   "id": "d5b9417a",
   "metadata": {},
   "outputs": [
    {
     "data": {
      "text/plain": [
       "['india',\n",
       " 'throe',\n",
       " 'one',\n",
       " 'darkest',\n",
       " 'moment',\n",
       " 'since',\n",
       " 'independence',\n",
       " 'catastrophic',\n",
       " 'second',\n",
       " 'covid19',\n",
       " 'wave',\n",
       " 'tear',\n",
       " 'dizzying',\n",
       " 'speed',\n",
       " 'country',\n",
       " 'recorded',\n",
       " 'alltime',\n",
       " 'high',\n",
       " '386000',\n",
       " 'new',\n",
       " 'infection',\n",
       " 'thursday',\n",
       " 'along',\n",
       " '3500',\n",
       " 'death',\n",
       " 'expert',\n",
       " 'say',\n",
       " 'actual',\n",
       " 'number',\n",
       " 'fatality',\n",
       " 'far',\n",
       " 'higher',\n",
       " 'prime',\n",
       " 'minister',\n",
       " 'narendra',\n",
       " 'modi',\n",
       " 'government',\n",
       " 'accused',\n",
       " 'exacerbating',\n",
       " 'crisis',\n",
       " 'failing',\n",
       " 'prepare',\n",
       " 'sharp',\n",
       " 'drop',\n",
       " 'case',\n",
       " 'led',\n",
       " 'claim',\n",
       " 'country',\n",
       " '“',\n",
       " 'endgame',\n",
       " '”',\n",
       " 'pandemic',\n",
       " 'latest',\n",
       " 'surge',\n",
       " 'surpassed',\n",
       " 'anything',\n",
       " 'endured',\n",
       " 'since',\n",
       " 'covid19',\n",
       " 'first',\n",
       " 'struck',\n",
       " 'cut',\n",
       " 'across',\n",
       " 'country',\n",
       " '’',\n",
       " 'many',\n",
       " 'social',\n",
       " 'economic',\n",
       " 'geographic',\n",
       " 'divide',\n",
       " 'affecting',\n",
       " 'rich',\n",
       " 'poor',\n",
       " 'rural',\n",
       " 'urban',\n",
       " 'area',\n",
       " 'turmoil',\n",
       " 'intensified',\n",
       " 'crippling',\n",
       " 'shortage',\n",
       " 'lifesaving',\n",
       " 'supply',\n",
       " 'oxygen',\n",
       " 'well',\n",
       " 'new',\n",
       " 'covid19',\n",
       " 'variant',\n",
       " 'new',\n",
       " 'lockdown',\n",
       " 'also',\n",
       " 'threatening',\n",
       " 'derail',\n",
       " 'recovery',\n",
       " 'world',\n",
       " '’',\n",
       " 'fastestgrowing',\n",
       " 'large',\n",
       " 'economy']"
      ]
     },
     "execution_count": 12,
     "metadata": {},
     "output_type": "execute_result"
    }
   ],
   "source": [
    "lemma_words"
   ]
  },
  {
   "cell_type": "code",
   "execution_count": 13,
   "id": "55d32934",
   "metadata": {},
   "outputs": [
    {
     "name": "stdout",
     "output_type": "stream",
     "text": [
      "People emotions from the text \n",
      " [' cheated', ' saddest', ' confusion'] \n",
      " \n",
      "\n",
      "Count of each emotion \n",
      " Counter({' cheated': 1, ' saddest': 1, ' confusion': 1})\n"
     ]
    }
   ],
   "source": [
    "emotion_list = []\n",
    "\n",
    "with open('emotions.txt', 'r') as file:\n",
    "    for line in file:\n",
    "        clear_line = line.replace(\"\\n\", '').replace(\",\", '').replace(\"'\", '').strip()\n",
    "        word, emotion = clear_line.split(':')\n",
    "\n",
    "        if word in lemma_words:\n",
    "            emotion_list.append(emotion)\n",
    "            \n",
    "print(\"People emotions from the text \\n\", emotion_list, '\\n \\n')\n",
    "\n",
    "\n",
    "w = Counter(emotion_list)\n",
    "print(\"Count of each emotion \\n\", w)"
   ]
  },
  {
   "cell_type": "code",
   "execution_count": 14,
   "id": "8c748c62",
   "metadata": {},
   "outputs": [
    {
     "name": "stderr",
     "output_type": "stream",
     "text": [
      "[nltk_data] Downloading package vader_lexicon to\n",
      "[nltk_data]     C:\\Users\\HP\\AppData\\Roaming\\nltk_data...\n",
      "[nltk_data]   Package vader_lexicon is already up-to-date!\n"
     ]
    },
    {
     "data": {
      "text/plain": [
       "True"
      ]
     },
     "execution_count": 14,
     "metadata": {},
     "output_type": "execute_result"
    }
   ],
   "source": [
    "nltk.download('vader_lexicon')"
   ]
  },
  {
   "cell_type": "code",
   "execution_count": 15,
   "id": "5e5856e9",
   "metadata": {},
   "outputs": [
    {
     "name": "stdout",
     "output_type": "stream",
     "text": [
      "{'neg': 0.215, 'neu': 0.748, 'pos': 0.037, 'compound': -0.9851}\n"
     ]
    }
   ],
   "source": [
    "sia = SentimentIntensityAnalyzer()\n",
    "\n",
    "#test_sent = 'Data science is a good course and I am loving it'\n",
    "sent = cleaned_text \n",
    "\n",
    "print (sia.polarity_scores(sent))"
   ]
  },
  {
   "cell_type": "code",
   "execution_count": 16,
   "id": "9f1381c6",
   "metadata": {},
   "outputs": [],
   "source": [
    "def sentiment_analyse(sentiment_text):\n",
    "    \n",
    "    score = SentimentIntensityAnalyzer().polarity_scores(sentiment_text)\n",
    "    \n",
    "    if score['neg'] > score['pos']:\n",
    "        print(\"\\n     ******Negative Sentiment*******\")\n",
    "        \n",
    "    elif score['neg'] < score['pos']:\n",
    "        print(\"\\n     ******Positive Sentiment*******\")\n",
    "        \n",
    "    else:\n",
    "        print(\"Neutral Sentiment\")"
   ]
  },
  {
   "cell_type": "code",
   "execution_count": 17,
   "id": "0dabdc04",
   "metadata": {},
   "outputs": [
    {
     "name": "stdout",
     "output_type": "stream",
     "text": [
      "\n",
      "     ******Negative Sentiment*******\n"
     ]
    },
    {
     "data": {
      "image/png": "[encoded data removed]",
      "text/plain": [
       "<Figure size 432x288 with 1 Axes>"
      ]
     },
     "metadata": {
      "needs_background": "light"
     },
     "output_type": "display_data"
    }
   ],
   "source": [
    "sentiment_analyse(cleaned_text)\n",
    "\n",
    "fig, ax1 = plt.subplots()\n",
    "ax1.bar(w.keys(), w.values())\n",
    "fig.autofmt_xdate()\n",
    "plt.savefig('graph.png')\n",
    "plt.show()"
   ]
  },
  {
   "cell_type": "code",
   "execution_count": null,
   "id": "5a77d67a",
   "metadata": {},
   "outputs": [],
   "source": []
  }
 ],
 "metadata": {
  "kernelspec": {
   "display_name": "Python 3",
   "language": "python",
   "name": "python3"
  },
  "language_info": {
   "codemirror_mode": {
    "name": "ipython",
    "version": 3
   },
   "file_extension": ".py",
   "mimetype": "text/x-python",
   "name": "python",
   "nbconvert_exporter": "python",
   "pygments_lexer": "ipython3",
   "version": "3.8.8"
  }
 },
 "nbformat": 4,
 "nbformat_minor": 5
}
